{
 "cells": [
  {
   "cell_type": "code",
   "execution_count": 47,
   "metadata": {},
   "outputs": [],
   "source": [
    "import pandas as pd\n",
    "import numpy as np\n",
    "from scipy import sparse as spsp\n",
    "from scipy.sparse import linalg"
   ]
  },
  {
   "cell_type": "markdown",
   "metadata": {},
   "source": [
    "Read data"
   ]
  },
  {
   "cell_type": "code",
   "execution_count": 19,
   "metadata": {},
   "outputs": [],
   "source": [
    "sessions = pd.read_csv('keep-events.gz', sep=' ', header=None)\n",
    "item_attrs = pd.read_csv('keep-hashes.gz', sep=' ', header=None)"
   ]
  },
  {
   "cell_type": "code",
   "execution_count": 11,
   "metadata": {},
   "outputs": [
    {
     "data": {
      "text/html": [
       "<div>\n",
       "<style scoped>\n",
       "    .dataframe tbody tr th:only-of-type {\n",
       "        vertical-align: middle;\n",
       "    }\n",
       "\n",
       "    .dataframe tbody tr th {\n",
       "        vertical-align: top;\n",
       "    }\n",
       "\n",
       "    .dataframe thead th {\n",
       "        text-align: right;\n",
       "    }\n",
       "</style>\n",
       "<table border=\"1\" class=\"dataframe\">\n",
       "  <thead>\n",
       "    <tr style=\"text-align: right;\">\n",
       "      <th></th>\n",
       "      <th>0</th>\n",
       "      <th>1</th>\n",
       "      <th>2</th>\n",
       "    </tr>\n",
       "  </thead>\n",
       "  <tbody>\n",
       "    <tr>\n",
       "      <th>0</th>\n",
       "      <td>0</td>\n",
       "      <td>285930</td>\n",
       "      <td>1442004589439</td>\n",
       "    </tr>\n",
       "    <tr>\n",
       "      <th>1</th>\n",
       "      <td>0</td>\n",
       "      <td>357564</td>\n",
       "      <td>1442004759591</td>\n",
       "    </tr>\n",
       "    <tr>\n",
       "      <th>2</th>\n",
       "      <td>0</td>\n",
       "      <td>67045</td>\n",
       "      <td>1442004917175</td>\n",
       "    </tr>\n",
       "    <tr>\n",
       "      <th>3</th>\n",
       "      <td>2</td>\n",
       "      <td>325215</td>\n",
       "      <td>1438969904567</td>\n",
       "    </tr>\n",
       "    <tr>\n",
       "      <th>4</th>\n",
       "      <td>2</td>\n",
       "      <td>325215</td>\n",
       "      <td>1438970013790</td>\n",
       "    </tr>\n",
       "    <tr>\n",
       "      <th>...</th>\n",
       "      <td>...</td>\n",
       "      <td>...</td>\n",
       "      <td>...</td>\n",
       "    </tr>\n",
       "    <tr>\n",
       "      <th>1343619</th>\n",
       "      <td>1407573</td>\n",
       "      <td>57720</td>\n",
       "      <td>1437973995037</td>\n",
       "    </tr>\n",
       "    <tr>\n",
       "      <th>1343620</th>\n",
       "      <td>1407573</td>\n",
       "      <td>363109</td>\n",
       "      <td>1438402327230</td>\n",
       "    </tr>\n",
       "    <tr>\n",
       "      <th>1343621</th>\n",
       "      <td>1407573</td>\n",
       "      <td>463766</td>\n",
       "      <td>1438402365311</td>\n",
       "    </tr>\n",
       "    <tr>\n",
       "      <th>1343622</th>\n",
       "      <td>1407573</td>\n",
       "      <td>82278</td>\n",
       "      <td>1438648367715</td>\n",
       "    </tr>\n",
       "    <tr>\n",
       "      <th>1343623</th>\n",
       "      <td>1407573</td>\n",
       "      <td>82278</td>\n",
       "      <td>1438648495146</td>\n",
       "    </tr>\n",
       "  </tbody>\n",
       "</table>\n",
       "<p>1343624 rows × 3 columns</p>\n",
       "</div>"
      ],
      "text/plain": [
       "               0       1              2\n",
       "0              0  285930  1442004589439\n",
       "1              0  357564  1442004759591\n",
       "2              0   67045  1442004917175\n",
       "3              2  325215  1438969904567\n",
       "4              2  325215  1438970013790\n",
       "...          ...     ...            ...\n",
       "1343619  1407573   57720  1437973995037\n",
       "1343620  1407573  363109  1438402327230\n",
       "1343621  1407573  463766  1438402365311\n",
       "1343622  1407573   82278  1438648367715\n",
       "1343623  1407573   82278  1438648495146\n",
       "\n",
       "[1343624 rows x 3 columns]"
      ]
     },
     "execution_count": 11,
     "metadata": {},
     "output_type": "execute_result"
    }
   ],
   "source": [
    "sessions"
   ]
  },
  {
   "cell_type": "markdown",
   "metadata": {},
   "source": [
    "Collect all unique items and map the original item Ids to a contiguous Id space. All items in the item attribute table exist in the session item table."
   ]
  },
  {
   "cell_type": "code",
   "execution_count": 32,
   "metadata": {},
   "outputs": [],
   "source": [
    "item_map = {}\n",
    "num_items = 0\n",
    "for item in np.array(item_attrs[0]):\n",
    "    if item in item_map:\n",
    "        continue\n",
    "        \n",
    "    item_map[item] = num_items\n",
    "    num_items += 1"
   ]
  },
  {
   "cell_type": "markdown",
   "metadata": {},
   "source": [
    "Remap all session Ids and item Ids in the session item table to contiguous Id space."
   ]
  },
  {
   "cell_type": "code",
   "execution_count": 35,
   "metadata": {},
   "outputs": [
    {
     "name": "stdout",
     "output_type": "stream",
     "text": [
      "iterations: 1255669\n"
     ]
    }
   ],
   "source": [
    "num_interacts = len(sessions[0])\n",
    "sids = np.array(sessions[0], dtype=np.int64)\n",
    "items = np.array(sessions[1], dtype=np.int64)\n",
    "\n",
    "sid_map = {}\n",
    "num_sids = 0\n",
    "new_sids = []\n",
    "new_items = []\n",
    "for sid, item in zip(sids, items):\n",
    "    if item not in item_map:\n",
    "        continue\n",
    "    if sid not in sid_map:\n",
    "        sid_map[sid] = num_sids\n",
    "        num_sids += 1\n",
    "\n",
    "    new_sids.append(sid_map[sid])\n",
    "    new_items.append(item_map[item])\n",
    "new_sids = np.array(new_sids, dtype=np.int64)\n",
    "new_items = np.array(new_items, dtype=np.int64)\n",
    "print('iterations:', len(new_sids))"
   ]
  },
  {
   "cell_type": "markdown",
   "metadata": {},
   "source": [
    "Construct the session item sparse matrix."
   ]
  },
  {
   "cell_type": "code",
   "execution_count": 76,
   "metadata": {},
   "outputs": [
    {
     "name": "stdout",
     "output_type": "stream",
     "text": [
      "(370542, 130922)\n",
      "1255669\n"
     ]
    }
   ],
   "source": [
    "num_interactions = len(new_sids)\n",
    "sess_item_spm = spsp.coo_matrix((np.ones((num_interactions)), (new_sids, new_items)))\n",
    "print(sess_item_spm.shape)\n",
    "print(sess_item_spm.nnz)"
   ]
  },
  {
   "cell_type": "code",
   "execution_count": 20,
   "metadata": {},
   "outputs": [
    {
     "data": {
      "text/html": [
       "<div>\n",
       "<style scoped>\n",
       "    .dataframe tbody tr th:only-of-type {\n",
       "        vertical-align: middle;\n",
       "    }\n",
       "\n",
       "    .dataframe tbody tr th {\n",
       "        vertical-align: top;\n",
       "    }\n",
       "\n",
       "    .dataframe thead th {\n",
       "        text-align: right;\n",
       "    }\n",
       "</style>\n",
       "<table border=\"1\" class=\"dataframe\">\n",
       "  <thead>\n",
       "    <tr style=\"text-align: right;\">\n",
       "      <th></th>\n",
       "      <th>0</th>\n",
       "      <th>1</th>\n",
       "    </tr>\n",
       "  </thead>\n",
       "  <tbody>\n",
       "    <tr>\n",
       "      <th>0</th>\n",
       "      <td>3</td>\n",
       "      <td>1182824</td>\n",
       "    </tr>\n",
       "    <tr>\n",
       "      <th>1</th>\n",
       "      <td>3</td>\n",
       "      <td>1305767</td>\n",
       "    </tr>\n",
       "    <tr>\n",
       "      <th>2</th>\n",
       "      <td>3</td>\n",
       "      <td>138228</td>\n",
       "    </tr>\n",
       "    <tr>\n",
       "      <th>3</th>\n",
       "      <td>3</td>\n",
       "      <td>150169</td>\n",
       "    </tr>\n",
       "    <tr>\n",
       "      <th>4</th>\n",
       "      <td>3</td>\n",
       "      <td>261419</td>\n",
       "    </tr>\n",
       "    <tr>\n",
       "      <th>...</th>\n",
       "      <td>...</td>\n",
       "      <td>...</td>\n",
       "    </tr>\n",
       "    <tr>\n",
       "      <th>2708156</th>\n",
       "      <td>466864</td>\n",
       "      <td>580465</td>\n",
       "    </tr>\n",
       "    <tr>\n",
       "      <th>2708157</th>\n",
       "      <td>466864</td>\n",
       "      <td>610340</td>\n",
       "    </tr>\n",
       "    <tr>\n",
       "      <th>2708158</th>\n",
       "      <td>466864</td>\n",
       "      <td>625815</td>\n",
       "    </tr>\n",
       "    <tr>\n",
       "      <th>2708159</th>\n",
       "      <td>466864</td>\n",
       "      <td>631756</td>\n",
       "    </tr>\n",
       "    <tr>\n",
       "      <th>2708160</th>\n",
       "      <td>466864</td>\n",
       "      <td>721678</td>\n",
       "    </tr>\n",
       "  </tbody>\n",
       "</table>\n",
       "<p>2708161 rows × 2 columns</p>\n",
       "</div>"
      ],
      "text/plain": [
       "              0        1\n",
       "0             3  1182824\n",
       "1             3  1305767\n",
       "2             3   138228\n",
       "3             3   150169\n",
       "4             3   261419\n",
       "...         ...      ...\n",
       "2708156  466864   580465\n",
       "2708157  466864   610340\n",
       "2708158  466864   625815\n",
       "2708159  466864   631756\n",
       "2708160  466864   721678\n",
       "\n",
       "[2708161 rows x 2 columns]"
      ]
     },
     "execution_count": 20,
     "metadata": {},
     "output_type": "execute_result"
    }
   ],
   "source": [
    "item_attrs"
   ]
  },
  {
   "cell_type": "markdown",
   "metadata": {},
   "source": [
    "Remap the items in the item attribute table and construct an item-attribute sparse matrix."
   ]
  },
  {
   "cell_type": "code",
   "execution_count": 41,
   "metadata": {},
   "outputs": [],
   "source": [
    "items = np.array(item_attrs[0], dtype=np.int64)\n",
    "attrs = np.array(item_attrs[1], dtype=np.int64)\n",
    "for i in range(len(items)):\n",
    "    items[i] = item_map[items[i]]"
   ]
  },
  {
   "cell_type": "code",
   "execution_count": 42,
   "metadata": {},
   "outputs": [
    {
     "name": "stdout",
     "output_type": "stream",
     "text": [
      "(130922, 1339686)\n"
     ]
    }
   ],
   "source": [
    "item_attr_spm = spsp.coo_matrix((np.ones((len(items))), (items, attrs)))\n",
    "print(item_attr_spm.shape)"
   ]
  },
  {
   "cell_type": "markdown",
   "metadata": {},
   "source": [
    "Dimension reduction on the item-attribute sparse matrix to generate item features."
   ]
  },
  {
   "cell_type": "code",
   "execution_count": 74,
   "metadata": {},
   "outputs": [
    {
     "name": "stdout",
     "output_type": "stream",
     "text": [
      "(130922, 100)\n"
     ]
    }
   ],
   "source": [
    "u, s, _ = linalg.svds(item_attr_spm, k=100)\n",
    "item_feats = u * np.sqrt(s).transpose()\n",
    "print(item_feats.shape)"
   ]
  },
  {
   "cell_type": "markdown",
   "metadata": {},
   "source": [
    "Save the session-item data and itme-feature data in files."
   ]
  },
  {
   "cell_type": "code",
   "execution_count": 49,
   "metadata": {},
   "outputs": [],
   "source": [
    "import pickle\n",
    "pickle.dump(sess_item_spm, open('retail_sess_item_full.pkl', 'wb'))\n",
    "pickle.dump(u, open('retail_item_feats_full.pkl', 'wb'))"
   ]
  },
  {
   "cell_type": "markdown",
   "metadata": {},
   "source": [
    "Some of the items are accessed in a small number of sessions."
   ]
  },
  {
   "cell_type": "code",
   "execution_count": 52,
   "metadata": {},
   "outputs": [
    {
     "name": "stdout",
     "output_type": "stream",
     "text": [
      "130922\n",
      "116388\n"
     ]
    }
   ],
   "source": [
    "num_sessions = sess_item_spm.shape[0]\n",
    "item_deg = sess_item_spm.transpose().dot(np.ones((num_sessions)))\n",
    "print(len(item_deg))\n",
    "print(np.sum(item_deg < 20))"
   ]
  },
  {
   "cell_type": "code",
   "execution_count": 70,
   "metadata": {},
   "outputs": [],
   "source": [
    "sess_item_spm_slice = sess_item_spm.tocsc()[:,item_deg >= 10]\n",
    "sess_deg = sess_item_spm_slice.dot(np.ones((28701)))\n",
    "sess_item_spm_slice = sess_item_spm_slice[sess_deg > 0]\n",
    "item_attr_slice = u[item_deg >= 10]"
   ]
  },
  {
   "cell_type": "code",
   "execution_count": 71,
   "metadata": {},
   "outputs": [],
   "source": [
    "pickle.dump(sess_item_spm_slice, open('retail_sess_item_slice.pkl', 'wb'))\n",
    "pickle.dump(item_attr_slice, open('retail_item_feats_slice.pkl', 'wb'))"
   ]
  },
  {
   "cell_type": "code",
   "execution_count": 72,
   "metadata": {},
   "outputs": [
    {
     "name": "stdout",
     "output_type": "stream",
     "text": [
      "(314874, 28701)\n",
      "(28701, 100)\n"
     ]
    }
   ],
   "source": [
    "print(sess_item_spm_slice.shape)\n",
    "print(item_attr_slice.shape)"
   ]
  },
  {
   "cell_type": "code",
   "execution_count": null,
   "metadata": {},
   "outputs": [],
   "source": []
  }
 ],
 "metadata": {
  "kernelspec": {
   "display_name": "Python 3",
   "language": "python",
   "name": "python3"
  },
  "language_info": {
   "codemirror_mode": {
    "name": "ipython",
    "version": 3
   },
   "file_extension": ".py",
   "mimetype": "text/x-python",
   "name": "python",
   "nbconvert_exporter": "python",
   "pygments_lexer": "ipython3",
   "version": "3.7.4"
  }
 },
 "nbformat": 4,
 "nbformat_minor": 2
}
